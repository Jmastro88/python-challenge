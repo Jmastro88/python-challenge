{
 "cells": [
  {
   "cell_type": "code",
   "execution_count": 7,
   "metadata": {},
   "outputs": [],
   "source": [
    "import os\n",
    "import csv"
   ]
  },
  {
   "cell_type": "code",
   "execution_count": 8,
   "metadata": {},
   "outputs": [],
   "source": [
    "# pybank_path=os.path.join('.', \"Resources\",'budget_data.csv')"
   ]
  },
  {
   "cell_type": "code",
   "execution_count": 9,
   "metadata": {},
   "outputs": [],
   "source": [
    "# with open(pybank_path, newline='') as pybank_file:\n",
    "    \n",
    "#     pybank_reader = csv.reader(pybank_file, delimiter=',')\n",
    "    \n",
    "#     print(pybank_reader)\n",
    "    \n",
    "#     pybank_header = next(pybank_reader)\n",
    "#     print(f\"pybank Header: {pybank_header}\")"
   ]
  },
  {
   "cell_type": "code",
   "execution_count": 10,
   "metadata": {},
   "outputs": [
    {
     "name": "stdout",
     "output_type": "stream",
     "text": [
      "<_csv.reader object at 0x00000203CF2C8978>\n",
      "pybank Header: ['Date', 'Profit/Losses']\n"
     ]
    }
   ],
   "source": [
    "with open (\"Resources/budget_data.csv\") as pybank_file:\n",
    "    \n",
    "    pybank_reader =csv.reader(pybank_file, delimiter=',')\n",
    "\n",
    "    \n",
    "    print(pybank_reader)\n",
    "    \n",
    "    pybank_header = next(pybank_reader)\n",
    "    print(f\"pybank Header: {pybank_header}\")\n",
    "    \n",
    "    previous_row= next(pybank_reader)\n",
    "   \n",
    "    month_count=1\n",
    "    \n",
    "    total_profit= int(previous_row[1])\n",
    "    \n",
    "    change_list=[]\n",
    "\n",
    "    max_val=0\n",
    "        \n",
    "    max_date=\"\"\n",
    "      \n",
    "    min_val=0\n",
    "    \n",
    "    min_date=\"\"\n",
    "        \n",
    "    for row in pybank_reader:\n",
    "#         print(row)\n",
    "        \n",
    "        month_count += 1\n",
    "        \n",
    "        total_profit += int(row[1])\n",
    "        \n",
    "        change= int(row[1])-int(previous_row[1])\n",
    "        \n",
    "        change_list.append(change)\n",
    "        \n",
    "        previous_row=row\n",
    "        \n",
    "        \n",
    "        if change > max_val:\n",
    "            max_val=change\n",
    "            max_date=row[0]\n",
    "    \n",
    "    \n",
    "        if change < min_val:\n",
    "            min_val=change\n",
    "            min_date=row[0]\n",
    "    "
   ]
  },
  {
   "cell_type": "code",
   "execution_count": 14,
   "metadata": {},
   "outputs": [
    {
     "name": "stdout",
     "output_type": "stream",
     "text": [
      "Financial Analysis\n",
      "-------------------------\n",
      "Total Monts: 86\n",
      "Total Protit/Loss: 38382578\n",
      "Average Change: -2315.1176470588234\n",
      "Greatest Increase in Profits:Feb-2012 (1926159)\n",
      "Greatest Decrease in Profits:Sep-2013 (-2196167)\n"
     ]
    }
   ],
   "source": [
    "# print(\"Financial Analysis\")\n",
    "# print(\"----------------------------\")\n",
    "    \n",
    "# print(month_count) \n",
    "\n",
    "# print(total_profit)\n",
    "\n",
    "# print(sum(change_list)/len(change_list))\n",
    "\n",
    "# print(f\"{max_date} {max_val}\")\n",
    "# print(f\"{min_date} {min_val}\")\n",
    "\n",
    "avg_change=(sum(change_list)/len(change_list))\n",
    "\n",
    "\n",
    "summary=(f\"Financial Analysis\\\n",
    "\\n-------------------------\\\n",
    "\\nTotal Monts: {month_count}\\\n",
    "\\nTotal Protit/Loss: {total_profit}\\\n",
    "\\nAverage Change: {avg_change}\\\n",
    "\\nGreatest Increase in Profits:{max_date} ({max_val})\\\n",
    "\\nGreatest Decrease in Profits:{min_date} ({min_val})\\\n",
    "\")\n",
    "\n",
    "print(summary)"
   ]
  },
  {
   "cell_type": "code",
   "execution_count": 15,
   "metadata": {},
   "outputs": [],
   "source": [
    "with open (\"PyBank_HW.txt\", \"w\") as textfile:\n",
    "    textfile.write(summary)"
   ]
  },
  {
   "cell_type": "code",
   "execution_count": null,
   "metadata": {},
   "outputs": [],
   "source": []
  }
 ],
 "metadata": {
  "kernelspec": {
   "display_name": "Python 3",
   "language": "python",
   "name": "python3"
  },
  "language_info": {
   "codemirror_mode": {
    "name": "ipython",
    "version": 3
   },
   "file_extension": ".py",
   "mimetype": "text/x-python",
   "name": "python",
   "nbconvert_exporter": "python",
   "pygments_lexer": "ipython3",
   "version": "3.7.4"
  }
 },
 "nbformat": 4,
 "nbformat_minor": 2
}
