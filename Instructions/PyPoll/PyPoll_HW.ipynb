{
 "cells": [
  {
   "cell_type": "code",
   "execution_count": 9,
   "metadata": {},
   "outputs": [],
   "source": [
    "import os\n",
    "import csv"
   ]
  },
  {
   "cell_type": "code",
   "execution_count": 10,
   "metadata": {},
   "outputs": [
    {
     "name": "stdout",
     "output_type": "stream",
     "text": [
      "<_csv.reader object at 0x0000022FEA6D5E48>\n",
      "['Voter ID', 'County', 'Candidate']\n"
     ]
    }
   ],
   "source": [
    "with open (\"Resources/election_data.csv\") as pypoll_file:\n",
    "    \n",
    "#    open a reader and setting a diliminater to sepreate each value by \n",
    "    pypoll_reader=csv.reader (pypoll_file, delimiter=',')\n",
    "    print(pypoll_reader)\n",
    "    \n",
    "#     removes header from reader\n",
    "    pypoll_header=next(pypoll_reader)\n",
    "     \n",
    "    \n",
    "    print(pypoll_header)\n",
    "    \n",
    "#     set starting number to total votes\n",
    "    total_votes= 0\n",
    "\n",
    "# create empty list to hold each candidate votes\n",
    "    Khan_list=[]\n",
    "    \n",
    "    Correy_list=[]\n",
    "    \n",
    "    Li_list=[]\n",
    "    \n",
    "    OTooley_list=[]\n",
    "    \n",
    "#    created a function to calulate the percentage of each candidates's votes\n",
    "    def percentage(votes, total_votes):\n",
    "        votes=len(votes)\n",
    "        \n",
    "        return round(votes/total_votes*100,3)\n",
    "    \n",
    "#    created a for loop to tally all votes \n",
    "    for row in pypoll_reader:\n",
    "#         print(row)\n",
    "        \n",
    "        total_votes+= 1\n",
    "        \n",
    "        candidate_votes= row[2]\n",
    "        \n",
    "        if candidate_votes == \"Khan\":\n",
    "            Khan_list.append(candidate_votes)\n",
    "            \n",
    "        if candidate_votes == \"Correy\":\n",
    "            Correy_list.append(candidate_votes)\n",
    "            \n",
    "        if candidate_votes == \"Li\":\n",
    "            Li_list.append(candidate_votes)\n",
    "            \n",
    "        if candidate_votes == \"O'Tooley\":\n",
    "            OTooley_list.append(candidate_votes)\n",
    "\n",
    "    results={}\n",
    "        \n",
    "    results[\"Khan\"]=[percentage(Khan_list,total_votes), len(Khan_list)]\n",
    "    results[\"Correy\"]=[percentage(Correy_list, total_votes), len(Correy_list)]\n",
    "    results[\"Li\"]=[percentage(Li_list, total_votes), len(Li_list)]\n",
    "    results[\"OTooley\"]=[percentage(OTooley_list,total_votes), len(OTooley_list)]\n",
    "    \n",
    "#     print(results)\n",
    "    \n",
    "    names=list(results.keys())\n",
    "    \n",
    "    def winner(results):\n",
    "        most_votes=max(results[\"Khan\"],results[\"Correy\"],results[\"Li\"],results[\"OTooley\"])\n",
    "        for name,votes in results.items():\n",
    "            if votes==most_votes:\n",
    "                return name"
   ]
  },
  {
   "cell_type": "code",
   "execution_count": 11,
   "metadata": {},
   "outputs": [
    {
     "name": "stdout",
     "output_type": "stream",
     "text": [
      "Election Results\n",
      "-------------------------\n",
      "Total Votes: 3521001\n",
      "-------------------------\n",
      "Khan: 63.0% (2218231)\n",
      "Correy: 20.0% (704200)\n",
      "Li: 14.0% (492940)\n",
      "OTooley: 3.0% (105630)\n",
      "-------------------------\n",
      "Winner: Khan\n"
     ]
    }
   ],
   "source": [
    "summary=(f\"Election Results\\\n",
    "\\n-------------------------\\\n",
    "\\nTotal Votes: {total_votes}\\\n",
    "\\n-------------------------\\\n",
    "\")\n",
    "\n",
    "winner_summary=(f\"\\n-------------------------\\\n",
    "\\nWinner: {winner(results)}\")\n",
    "for name in names:\n",
    "                summary+=(f\"\\n{name}: {results[name][0]}% ({results[name][1]})\")\n",
    "summary+=winner_summary\n",
    "\n",
    "print(summary)\n",
    "\n",
    "# print(f\"Khan:{Khan}%, ({len(Khan_list)})\")\n",
    "#       Correy:{len(Correy_list)}, Li:{len(Li_list)}, O'Tooley:{len(OTooley_list)}\")\n"
   ]
  },
  {
   "cell_type": "code",
   "execution_count": 13,
   "metadata": {},
   "outputs": [],
   "source": [
    "with open (\"PyPoll_HW.txt\", \"w\") as textfile:\n",
    "    textfile.write(summary)"
   ]
  },
  {
   "cell_type": "code",
   "execution_count": null,
   "metadata": {},
   "outputs": [],
   "source": []
  }
 ],
 "metadata": {
  "kernelspec": {
   "display_name": "Python 3",
   "language": "python",
   "name": "python3"
  },
  "language_info": {
   "codemirror_mode": {
    "name": "ipython",
    "version": 3
   },
   "file_extension": ".py",
   "mimetype": "text/x-python",
   "name": "python",
   "nbconvert_exporter": "python",
   "pygments_lexer": "ipython3",
   "version": "3.7.4"
  }
 },
 "nbformat": 4,
 "nbformat_minor": 2
}
